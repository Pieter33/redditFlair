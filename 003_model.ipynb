{
 "cells": [
  {
   "cell_type": "markdown",
   "metadata": {},
   "source": [
    "## IMPORT REQUIRED LIBRARIES"
   ]
  },
  {
   "cell_type": "code",
   "execution_count": 13,
   "metadata": {},
   "outputs": [],
   "source": [
    "from sklearn.model_selection import train_test_split\n",
    "from sklearn.naive_bayes import MultinomialNB\n",
    "from sklearn.pipeline import Pipeline\n",
    "from sklearn.feature_extraction.text import TfidfTransformer\n",
    "from sklearn.feature_extraction.text import CountVectorizer\n",
    "from sklearn.metrics import classification_report, accuracy_score, confusion_matrix\n",
    "from sklearn.linear_model import SGDClassifier, LogisticRegression\n",
    "from sklearn.ensemble import RandomForestClassifier\n",
    "from sklearn.neural_network import MLPClassifier\n",
    "import joblib\n",
    "import pickle\n",
    "import pandas as pd\n",
    "import warnings\n",
    "from sklearn.linear_model import LogisticRegression\n",
    "warnings.filterwarnings('ignore')"
   ]
  },
  {
   "cell_type": "markdown",
   "metadata": {},
   "source": [
    "### define the flairs and read data. Afterwards define the features to be used and split into training and testing."
   ]
  },
  {
   "cell_type": "code",
   "execution_count": 14,
   "metadata": {},
   "outputs": [],
   "source": [
    "flairs = [\"AskIndia\", \"Non-Political\", \"[R]eddiquette\", \"Scheduled\", \"Photography\", \"Science/Technology\", \"Politics\", \"Business/Finance\", \"Policy/Economy\", \"Sports\", \"Food\", \"AMA\", \"CAA-NRC\", \"Coronavirus\"]"
   ]
  },
  {
   "cell_type": "code",
   "execution_count": 15,
   "metadata": {},
   "outputs": [],
   "source": [
    "data = pd.read_csv('final.csv')\n",
    "data.fillna(\"\",inplace = True)"
   ]
  },
  {
   "cell_type": "code",
   "execution_count": 16,
   "metadata": {},
   "outputs": [],
   "source": [
    "y = data.flair\n",
    "X = data.feature_combine"
   ]
  },
  {
   "cell_type": "code",
   "execution_count": 17,
   "metadata": {},
   "outputs": [],
   "source": [
    "X_train, X_test, y_train, y_test = train_test_split(X, y, test_size=0.4, random_state = 42)"
   ]
  },
  {
   "cell_type": "markdown",
   "metadata": {},
   "source": [
    "### define functions for logistic regression, stochastic gradient descent classifier and random forest classifier.\n",
    "### using Pipeline, we used countvectorizer and tfidf transforms and for each function a different estimator."
   ]
  },
  {
   "cell_type": "code",
   "execution_count": 18,
   "metadata": {},
   "outputs": [
    {
     "name": "stdout",
     "output_type": "stream",
     "text": [
      "accuracy 0.6988636363636364\n",
      "                    precision    recall  f1-score   support\n",
      "\n",
      "          AskIndia       0.72      0.65      0.68        43\n",
      "     Non-Political       0.40      0.44      0.42        36\n",
      "     [R]eddiquette       0.69      0.69      0.69        42\n",
      "         Scheduled       0.80      0.92      0.85        38\n",
      "       Photography       0.75      0.90      0.82        42\n",
      "Science/Technology       0.68      0.89      0.77        36\n",
      "          Politics       0.53      0.52      0.52        33\n",
      "  Business/Finance       0.93      0.84      0.88        45\n",
      "    Policy/Economy       0.53      0.56      0.55        41\n",
      "            Sports       0.68      0.53      0.60        43\n",
      "              Food       0.80      0.58      0.67        48\n",
      "               AMA       0.72      0.79      0.76        39\n",
      "           CAA-NRC       0.84      0.73      0.78        37\n",
      "       Coronavirus       0.80      0.80      0.80         5\n",
      "\n",
      "          accuracy                           0.70       528\n",
      "         macro avg       0.70      0.70      0.70       528\n",
      "      weighted avg       0.71      0.70      0.70       528\n",
      "\n",
      "accuracy 0.7140151515151515\n",
      "                    precision    recall  f1-score   support\n",
      "\n",
      "          AskIndia       0.66      0.72      0.69        43\n",
      "     Non-Political       0.56      0.39      0.46        36\n",
      "     [R]eddiquette       0.69      0.74      0.71        42\n",
      "         Scheduled       0.80      0.97      0.88        38\n",
      "       Photography       0.72      0.93      0.81        42\n",
      "Science/Technology       0.69      0.86      0.77        36\n",
      "          Politics       0.55      0.52      0.53        33\n",
      "  Business/Finance       0.93      0.89      0.91        45\n",
      "    Policy/Economy       0.55      0.56      0.55        41\n",
      "            Sports       0.67      0.51      0.58        43\n",
      "              Food       0.85      0.60      0.71        48\n",
      "               AMA       0.72      0.79      0.76        39\n",
      "           CAA-NRC       0.78      0.76      0.77        37\n",
      "       Coronavirus       1.00      0.80      0.89         5\n",
      "\n",
      "          accuracy                           0.71       528\n",
      "         macro avg       0.73      0.72      0.72       528\n",
      "      weighted avg       0.71      0.71      0.71       528\n",
      "\n",
      "accuracy 0.7575757575757576\n",
      "                    precision    recall  f1-score   support\n",
      "\n",
      "          AskIndia       0.64      0.63      0.64        43\n",
      "     Non-Political       0.67      0.56      0.61        36\n",
      "     [R]eddiquette       0.80      0.76      0.78        42\n",
      "         Scheduled       0.71      0.97      0.82        38\n",
      "       Photography       0.73      0.90      0.81        42\n",
      "Science/Technology       0.77      0.94      0.85        36\n",
      "          Politics       0.56      0.67      0.61        33\n",
      "  Business/Finance       0.91      0.93      0.92        45\n",
      "    Policy/Economy       0.62      0.73      0.67        41\n",
      "            Sports       0.74      0.47      0.57        43\n",
      "              Food       0.91      0.62      0.74        48\n",
      "               AMA       0.92      0.90      0.91        39\n",
      "           CAA-NRC       0.88      0.78      0.83        37\n",
      "       Coronavirus       1.00      0.80      0.89         5\n",
      "\n",
      "          accuracy                           0.76       528\n",
      "         macro avg       0.78      0.76      0.76       528\n",
      "      weighted avg       0.77      0.76      0.75       528\n",
      "\n"
     ]
    }
   ],
   "source": [
    "def LogiReg(X_train, X_test, y_train, y_test):\n",
    "    logreg = Pipeline([('vect', CountVectorizer()), ('tfidf', TfidfTransformer()), ('clf', LogisticRegression(n_jobs=1, C=1e5))])\n",
    "    logreg.fit(X_train, y_train)\n",
    "    y_pred = logreg.predict(X_test)\n",
    "    print('accuracy %s' % accuracy_score(y_pred, y_test))\n",
    "    print(classification_report(y_test, y_pred,target_names=flairs))\n",
    "    \n",
    "def SGDC(X_train, X_test, y_train, y_test):\n",
    "    sgd = Pipeline([('vect', CountVectorizer()),('tfidf', TfidfTransformer()),('clf', SGDClassifier(loss='hinge', penalty='l2',alpha=1e-3, random_state=42, max_iter=5, tol=None)),])\n",
    "    sgd.fit(X_train, y_train)\n",
    "    y_pred = sgd.predict(X_test)\n",
    "    print('accuracy %s' % accuracy_score(y_pred, y_test))\n",
    "    print(classification_report(y_test, y_pred,target_names=flairs))\n",
    "\n",
    "def RandomForest(X_train, X_test, y_train, y_test):\n",
    "    ranfor = Pipeline([('vect', CountVectorizer()),('tfidf', TfidfTransformer()),('clf', RandomForestClassifier(n_estimators = 1000, random_state = 42)),])\n",
    "    ranfor.fit(X_train, y_train)\n",
    "    y_pred = ranfor.predict(X_test)\n",
    "    print('accuracy %s' % accuracy_score(y_pred, y_test))\n",
    "    print(classification_report(y_test, y_pred,target_names=flairs))\n",
    "\n",
    "LogiReg(X_train, X_test, y_train, y_test)\n",
    "SGDC(X_train, X_test, y_train, y_test)\n",
    "RandomForest(X_train, X_test, y_train, y_test)\n"
   ]
  },
  {
   "cell_type": "markdown",
   "metadata": {},
   "source": [
    "### since random forest and SGD classifiers have given higher accuracy we will build final models with them."
   ]
  },
  {
   "cell_type": "code",
   "execution_count": 19,
   "metadata": {},
   "outputs": [],
   "source": [
    "X_train, X_test, y_train, y_test = train_test_split(X, y, test_size=0.4, random_state = 42)\n",
    "\n",
    "ranfor = Pipeline([('vect', CountVectorizer()), ('tfidf', TfidfTransformer()),('clf', RandomForestClassifier(n_estimators = 1000, random_state = 42)),])\n",
    "RM = ranfor.fit(X_train, y_train)\n",
    "pickle.dump(RM,open(\"RandomForest.pkl\",'wb'))\n",
    "y_pred = ranfor.predict(X_test)\n",
    "\n",
    "sgd = Pipeline([('vect', CountVectorizer()),('tfidf', TfidfTransformer()),('clf', SGDClassifier(loss='hinge', penalty='l2',alpha=1e-3, random_state=42, max_iter=5, tol=None)),])\n",
    "sgd.fit(X_train, y_train)\n",
    "pickle.dump(sgd,open(\"SGDC.pkl\",'wb'))\n",
    "y_pred = sgd.predict(X_test)\n"
   ]
  },
  {
   "cell_type": "code",
   "execution_count": null,
   "metadata": {},
   "outputs": [],
   "source": []
  }
 ],
 "metadata": {
  "kernelspec": {
   "display_name": "Python 3",
   "language": "python",
   "name": "python3"
  },
  "language_info": {
   "codemirror_mode": {
    "name": "ipython",
    "version": 3
   },
   "file_extension": ".py",
   "mimetype": "text/x-python",
   "name": "python",
   "nbconvert_exporter": "python",
   "pygments_lexer": "ipython3",
   "version": "3.7.5"
  }
 },
 "nbformat": 4,
 "nbformat_minor": 4
}
