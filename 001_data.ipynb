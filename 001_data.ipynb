{
 "cells": [
  {
   "cell_type": "markdown",
   "metadata": {},
   "source": [
    "## install libraries if not installed previously."
   ]
  },
  {
   "cell_type": "code",
   "execution_count": 8,
   "metadata": {},
   "outputs": [
    {
     "name": "stdout",
     "output_type": "stream",
     "text": [
      "Requirement already satisfied: praw in c:\\users\\piyus\\appdata\\local\\programs\\python\\python37\\lib\\site-packages (6.5.1)\n",
      "Requirement already satisfied: pandas in c:\\users\\piyus\\appdata\\local\\programs\\python\\python37\\lib\\site-packages (1.0.1)\n",
      "Requirement already satisfied: numpy in c:\\users\\piyus\\appdata\\local\\programs\\python\\python37\\lib\\site-packages (1.18.1)\n",
      "Requirement already satisfied: scikit-learn in c:\\users\\piyus\\appdata\\local\\programs\\python\\python37\\lib\\site-packages (0.22.2.post1)\n",
      "Requirement already satisfied: matplotlib in c:\\users\\piyus\\appdata\\local\\programs\\python\\python37\\lib\\site-packages (3.2.0)\n",
      "Requirement already satisfied: scipy in c:\\users\\piyus\\appdata\\local\\programs\\python\\python37\\lib\\site-packages (1.4.1)\n",
      "Requirement already satisfied: PyDrive in c:\\users\\piyus\\appdata\\local\\programs\\python\\python37\\lib\\site-packages (1.3.1)\n",
      "Requirement already satisfied: prawcore<2.0,>=1.0.1 in c:\\users\\piyus\\appdata\\local\\programs\\python\\python37\\lib\\site-packages (from praw) (1.0.1)\n",
      "Requirement already satisfied: websocket-client>=0.54.0 in c:\\users\\piyus\\appdata\\local\\programs\\python\\python37\\lib\\site-packages (from praw) (0.57.0)\n",
      "Requirement already satisfied: update-checker>=0.16 in c:\\users\\piyus\\appdata\\local\\programs\\python\\python37\\lib\\site-packages (from praw) (0.16)\n",
      "Requirement already satisfied: pytz>=2017.2 in c:\\users\\piyus\\appdata\\local\\programs\\python\\python37\\lib\\site-packages (from pandas) (2019.3)\n",
      "Requirement already satisfied: python-dateutil>=2.6.1 in c:\\users\\piyus\\appdata\\local\\programs\\python\\python37\\lib\\site-packages (from pandas) (2.8.1)\n",
      "Requirement already satisfied: joblib>=0.11 in c:\\users\\piyus\\appdata\\local\\programs\\python\\python37\\lib\\site-packages (from scikit-learn) (0.14.1)\n",
      "Requirement already satisfied: cycler>=0.10 in c:\\users\\piyus\\appdata\\local\\programs\\python\\python37\\lib\\site-packages (from matplotlib) (0.10.0)\n",
      "Requirement already satisfied: pyparsing!=2.0.4,!=2.1.2,!=2.1.6,>=2.0.1 in c:\\users\\piyus\\appdata\\local\\programs\\python\\python37\\lib\\site-packages (from matplotlib) (2.4.6)\n",
      "Requirement already satisfied: kiwisolver>=1.0.1 in c:\\users\\piyus\\appdata\\local\\programs\\python\\python37\\lib\\site-packages (from matplotlib) (1.1.0)\n",
      "Requirement already satisfied: google-api-python-client>=1.2 in c:\\users\\piyus\\appdata\\local\\programs\\python\\python37\\lib\\site-packages (from PyDrive) (1.8.0)\n",
      "Requirement already satisfied: oauth2client>=4.0.0 in c:\\users\\piyus\\appdata\\local\\programs\\python\\python37\\lib\\site-packages (from PyDrive) (4.1.3)\n",
      "Requirement already satisfied: PyYAML>=3.0 in c:\\users\\piyus\\appdata\\local\\programs\\python\\python37\\lib\\site-packages (from PyDrive) (5.3)\n",
      "Requirement already satisfied: requests<3.0,>=2.6.0 in c:\\users\\piyus\\appdata\\local\\programs\\python\\python37\\lib\\site-packages (from prawcore<2.0,>=1.0.1->praw) (2.23.0)\n",
      "Requirement already satisfied: six in c:\\users\\piyus\\appdata\\local\\programs\\python\\python37\\lib\\site-packages (from websocket-client>=0.54.0->praw) (1.14.0)\n",
      "Requirement already satisfied: setuptools in c:\\users\\piyus\\appdata\\local\\programs\\python\\python37\\lib\\site-packages (from kiwisolver>=1.0.1->matplotlib) (41.2.0)\n",
      "Requirement already satisfied: httplib2<1dev,>=0.9.2 in c:\\users\\piyus\\appdata\\local\\programs\\python\\python37\\lib\\site-packages (from google-api-python-client>=1.2->PyDrive) (0.17.2)\n",
      "Requirement already satisfied: uritemplate<4dev,>=3.0.0 in c:\\users\\piyus\\appdata\\local\\programs\\python\\python37\\lib\\site-packages (from google-api-python-client>=1.2->PyDrive) (3.0.1)\n",
      "Requirement already satisfied: google-api-core<2dev,>=1.13.0 in c:\\users\\piyus\\appdata\\local\\programs\\python\\python37\\lib\\site-packages (from google-api-python-client>=1.2->PyDrive) (1.16.0)\n",
      "Requirement already satisfied: google-auth-httplib2>=0.0.3 in c:\\users\\piyus\\appdata\\local\\programs\\python\\python37\\lib\\site-packages (from google-api-python-client>=1.2->PyDrive) (0.0.3)\n",
      "Requirement already satisfied: google-auth>=1.4.1 in c:\\users\\piyus\\appdata\\local\\programs\\python\\python37\\lib\\site-packages (from google-api-python-client>=1.2->PyDrive) (1.11.2)\n",
      "Requirement already satisfied: rsa>=3.1.4 in c:\\users\\piyus\\appdata\\local\\programs\\python\\python37\\lib\\site-packages (from oauth2client>=4.0.0->PyDrive) (4.0)\n",
      "Requirement already satisfied: pyasn1>=0.1.7 in c:\\users\\piyus\\appdata\\local\\programs\\python\\python37\\lib\\site-packages (from oauth2client>=4.0.0->PyDrive) (0.4.8)\n",
      "Requirement already satisfied: pyasn1-modules>=0.0.5 in c:\\users\\piyus\\appdata\\local\\programs\\python\\python37\\lib\\site-packages (from oauth2client>=4.0.0->PyDrive) (0.2.8)\n",
      "Requirement already satisfied: chardet<4,>=3.0.2 in c:\\users\\piyus\\appdata\\local\\programs\\python\\python37\\lib\\site-packages (from requests<3.0,>=2.6.0->prawcore<2.0,>=1.0.1->praw) (3.0.4)\n",
      "Requirement already satisfied: idna<3,>=2.5 in c:\\users\\piyus\\appdata\\local\\programs\\python\\python37\\lib\\site-packages (from requests<3.0,>=2.6.0->prawcore<2.0,>=1.0.1->praw) (2.9)\n",
      "Requirement already satisfied: urllib3!=1.25.0,!=1.25.1,<1.26,>=1.21.1 in c:\\users\\piyus\\appdata\\local\\programs\\python\\python37\\lib\\site-packages (from requests<3.0,>=2.6.0->prawcore<2.0,>=1.0.1->praw) (1.25.8)\n",
      "Requirement already satisfied: certifi>=2017.4.17 in c:\\users\\piyus\\appdata\\local\\programs\\python\\python37\\lib\\site-packages (from requests<3.0,>=2.6.0->prawcore<2.0,>=1.0.1->praw) (2019.11.28)\n",
      "Requirement already satisfied: googleapis-common-protos<2.0dev,>=1.6.0 in c:\\users\\piyus\\appdata\\local\\programs\\python\\python37\\lib\\site-packages (from google-api-core<2dev,>=1.13.0->google-api-python-client>=1.2->PyDrive) (1.51.0)\n",
      "Requirement already satisfied: protobuf>=3.4.0 in c:\\users\\piyus\\appdata\\local\\programs\\python\\python37\\lib\\site-packages (from google-api-core<2dev,>=1.13.0->google-api-python-client>=1.2->PyDrive) (3.11.3)\n",
      "Requirement already satisfied: cachetools<5.0,>=2.0.0 in c:\\users\\piyus\\appdata\\local\\programs\\python\\python37\\lib\\site-packages (from google-auth>=1.4.1->google-api-python-client>=1.2->PyDrive) (4.0.0)\n",
      "Requirement already satisfied: gensim in c:\\users\\piyus\\appdata\\local\\programs\\python\\python37\\lib\\site-packages (3.8.2)\n",
      "Requirement already satisfied: nltk in c:\\users\\piyus\\appdata\\local\\programs\\python\\python37\\lib\\site-packages (3.4.5)\n",
      "Requirement already satisfied: numpy>=1.11.3 in c:\\users\\piyus\\appdata\\local\\programs\\python\\python37\\lib\\site-packages (from gensim) (1.18.1)\n",
      "Requirement already satisfied: six>=1.5.0 in c:\\users\\piyus\\appdata\\local\\programs\\python\\python37\\lib\\site-packages (from gensim) (1.14.0)\n",
      "Requirement already satisfied: scipy>=1.0.0 in c:\\users\\piyus\\appdata\\local\\programs\\python\\python37\\lib\\site-packages (from gensim) (1.4.1)\n",
      "Requirement already satisfied: smart-open>=1.8.1 in c:\\users\\piyus\\appdata\\local\\programs\\python\\python37\\lib\\site-packages (from gensim) (1.11.1)\n",
      "Requirement already satisfied: requests in c:\\users\\piyus\\appdata\\local\\programs\\python\\python37\\lib\\site-packages (from smart-open>=1.8.1->gensim) (2.23.0)\n",
      "Requirement already satisfied: boto in c:\\users\\piyus\\appdata\\local\\programs\\python\\python37\\lib\\site-packages (from smart-open>=1.8.1->gensim) (2.49.0)\n",
      "Requirement already satisfied: boto3 in c:\\users\\piyus\\appdata\\local\\programs\\python\\python37\\lib\\site-packages (from smart-open>=1.8.1->gensim) (1.12.39)\n",
      "Requirement already satisfied: certifi>=2017.4.17 in c:\\users\\piyus\\appdata\\local\\programs\\python\\python37\\lib\\site-packages (from requests->smart-open>=1.8.1->gensim) (2019.11.28)\n",
      "Requirement already satisfied: urllib3!=1.25.0,!=1.25.1,<1.26,>=1.21.1 in c:\\users\\piyus\\appdata\\local\\programs\\python\\python37\\lib\\site-packages (from requests->smart-open>=1.8.1->gensim) (1.25.8)\n",
      "Requirement already satisfied: idna<3,>=2.5 in c:\\users\\piyus\\appdata\\local\\programs\\python\\python37\\lib\\site-packages (from requests->smart-open>=1.8.1->gensim) (2.9)\n",
      "Requirement already satisfied: chardet<4,>=3.0.2 in c:\\users\\piyus\\appdata\\local\\programs\\python\\python37\\lib\\site-packages (from requests->smart-open>=1.8.1->gensim) (3.0.4)\n",
      "Requirement already satisfied: botocore<1.16.0,>=1.15.39 in c:\\users\\piyus\\appdata\\local\\programs\\python\\python37\\lib\\site-packages (from boto3->smart-open>=1.8.1->gensim) (1.15.39)\n",
      "Requirement already satisfied: s3transfer<0.4.0,>=0.3.0 in c:\\users\\piyus\\appdata\\local\\programs\\python\\python37\\lib\\site-packages (from boto3->smart-open>=1.8.1->gensim) (0.3.3)\n",
      "Requirement already satisfied: jmespath<1.0.0,>=0.7.1 in c:\\users\\piyus\\appdata\\local\\programs\\python\\python37\\lib\\site-packages (from boto3->smart-open>=1.8.1->gensim) (0.9.5)\n",
      "Requirement already satisfied: python-dateutil<3.0.0,>=2.1 in c:\\users\\piyus\\appdata\\local\\programs\\python\\python37\\lib\\site-packages (from botocore<1.16.0,>=1.15.39->boto3->smart-open>=1.8.1->gensim) (2.8.1)\n",
      "Requirement already satisfied: docutils<0.16,>=0.10 in c:\\users\\piyus\\appdata\\local\\programs\\python\\python37\\lib\\site-packages (from botocore<1.16.0,>=1.15.39->boto3->smart-open>=1.8.1->gensim) (0.15.2)\n"
     ]
    },
    {
     "name": "stdout",
     "output_type": "stream",
     "text": [
      "Requirement already satisfied: lxml in c:\\users\\piyus\\appdata\\local\\programs\\python\\python37\\lib\\site-packages (4.5.0)\n"
     ]
    }
   ],
   "source": [
    "!pip install praw pandas numpy scikit-learn matplotlib scipy PyDrive\n",
    "!pip install gensim nltk\n",
    "!pip install lxml"
   ]
  },
  {
   "cell_type": "markdown",
   "metadata": {},
   "source": [
    "## import required modules and libraries."
   ]
  },
  {
   "cell_type": "code",
   "execution_count": 9,
   "metadata": {},
   "outputs": [
    {
     "name": "stderr",
     "output_type": "stream",
     "text": [
      "[nltk_data] Downloading package stopwords to\n",
      "[nltk_data]     C:\\Users\\piyus\\AppData\\Roaming\\nltk_data...\n",
      "[nltk_data]   Package stopwords is already up-to-date!\n"
     ]
    }
   ],
   "source": [
    "import os\n",
    "import lxml\n",
    "import praw\n",
    "import pandas as pd\n",
    "import datetime as dt\n",
    "import logging\n",
    "import numpy as np\n",
    "from numpy import random\n",
    "import gensim\n",
    "import nltk\n",
    "nltk.download('stopwords')\n",
    "import matplotlib.pyplot as plt\n",
    "from nltk.corpus import stopwords\n",
    "import re\n",
    "from bs4 import BeautifulSoup"
   ]
  },
  {
   "cell_type": "markdown",
   "metadata": {},
   "source": [
    "### helper functions for time stamping."
   ]
  },
  {
   "cell_type": "code",
   "execution_count": 10,
   "metadata": {},
   "outputs": [],
   "source": [
    "def get_date(created):\n",
    "    return dt.datetime.fromtimestamp(created)"
   ]
  },
  {
   "cell_type": "code",
   "execution_count": 11,
   "metadata": {},
   "outputs": [],
   "source": [
    "reddit = praw.Reddit(client_id='aL90KhPO-cc_Yw', client_secret='xgff7ee87_AX1rWftFLI1rMc7T4',user_agent='midas')\n",
    "\n",
    "flairs = [\"AskIndia\", \"Non-Political\", \"[R]eddiquette\", \"Scheduled\", \"Photography\", \"Science/Technology\", \"Politics\", \"Business/Finance\", \"Policy/Economy\", \"Sports\", \"Food\", \"AMA\", \"CAA-NRC\",\"Coronavirus\"]\n",
    "\n",
    "\n",
    "subreddit = reddit.subreddit('india')\n",
    "content = {\"flair\":[], \"title\":[], \"score\":[], \"id\":[], \"url\":[], \"comms_num\": [], \"created\": [], \"body\":[], \"author\":[], \"comments\":[]}\n",
    "\n",
    "for flair in flairs:\n",
    "    get_subreddits = subreddit.search(flair, limit=100)\n",
    "  \n",
    "    for submission in get_subreddits:\n",
    "        content[\"flair\"].append(flair)\n",
    "        content[\"title\"].append(submission.title)\n",
    "        content[\"score\"].append(submission.score)\n",
    "        content[\"id\"].append(submission.id)\n",
    "        content[\"url\"].append(submission.url)\n",
    "        content[\"comms_num\"].append(submission.num_comments)\n",
    "        content[\"created\"].append(submission.created)\n",
    "        content[\"body\"].append(submission.selftext)\n",
    "        content[\"author\"].append(submission.author)\n",
    "    \n",
    "        submission.comments.replace_more(limit=10)\n",
    "        comment = ''\n",
    "        for top_level_comment in submission.comments:\n",
    "            comment = comment + ' ' + top_level_comment.body\n",
    "        content[\"comments\"].append(comment)\n",
    "    \n",
    "content = pd.DataFrame(content)\n",
    "_timestamp = content[\"created\"].apply(get_date)\n",
    "content = content.assign(timestamp = _timestamp)\n",
    "del content['created']\n",
    "content.to_csv('india.csv', index=False)"
   ]
  },
  {
   "cell_type": "code",
   "execution_count": null,
   "metadata": {},
   "outputs": [],
   "source": []
  }
 ],
 "metadata": {
  "kernelspec": {
   "display_name": "Python 3",
   "language": "python",
   "name": "python3"
  },
  "language_info": {
   "codemirror_mode": {
    "name": "ipython",
    "version": 3
   },
   "file_extension": ".py",
   "mimetype": "text/x-python",
   "name": "python",
   "nbconvert_exporter": "python",
   "pygments_lexer": "ipython3",
   "version": "3.7.5"
  }
 },
 "nbformat": 4,
 "nbformat_minor": 4
}
